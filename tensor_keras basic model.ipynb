{
 "cells": [
  {
   "cell_type": "code",
   "execution_count": 1,
   "metadata": {},
   "outputs": [],
   "source": [
    "import pandas as pd\n",
    "import numpy as np\n",
    "import matplotlib.pyplot as plt\n",
    "import seaborn as sns"
   ]
  },
  {
   "cell_type": "code",
   "execution_count": 2,
   "metadata": {},
   "outputs": [],
   "source": [
    "data = pd.read_csv('../DATA/fake_reg.csv')"
   ]
  },
  {
   "cell_type": "code",
   "execution_count": 3,
   "metadata": {},
   "outputs": [
    {
     "data": {
      "text/html": [
       "<div>\n",
       "<style scoped>\n",
       "    .dataframe tbody tr th:only-of-type {\n",
       "        vertical-align: middle;\n",
       "    }\n",
       "\n",
       "    .dataframe tbody tr th {\n",
       "        vertical-align: top;\n",
       "    }\n",
       "\n",
       "    .dataframe thead th {\n",
       "        text-align: right;\n",
       "    }\n",
       "</style>\n",
       "<table border=\"1\" class=\"dataframe\">\n",
       "  <thead>\n",
       "    <tr style=\"text-align: right;\">\n",
       "      <th></th>\n",
       "      <th>price</th>\n",
       "      <th>feature1</th>\n",
       "      <th>feature2</th>\n",
       "    </tr>\n",
       "  </thead>\n",
       "  <tbody>\n",
       "    <tr>\n",
       "      <th>0</th>\n",
       "      <td>461.527929</td>\n",
       "      <td>999.787558</td>\n",
       "      <td>999.766096</td>\n",
       "    </tr>\n",
       "    <tr>\n",
       "      <th>1</th>\n",
       "      <td>548.130011</td>\n",
       "      <td>998.861615</td>\n",
       "      <td>1001.042403</td>\n",
       "    </tr>\n",
       "    <tr>\n",
       "      <th>2</th>\n",
       "      <td>410.297162</td>\n",
       "      <td>1000.070267</td>\n",
       "      <td>998.844015</td>\n",
       "    </tr>\n",
       "    <tr>\n",
       "      <th>3</th>\n",
       "      <td>540.382220</td>\n",
       "      <td>999.952251</td>\n",
       "      <td>1000.440940</td>\n",
       "    </tr>\n",
       "    <tr>\n",
       "      <th>4</th>\n",
       "      <td>546.024553</td>\n",
       "      <td>1000.446011</td>\n",
       "      <td>1000.338531</td>\n",
       "    </tr>\n",
       "  </tbody>\n",
       "</table>\n",
       "</div>"
      ],
      "text/plain": [
       "        price     feature1     feature2\n",
       "0  461.527929   999.787558   999.766096\n",
       "1  548.130011   998.861615  1001.042403\n",
       "2  410.297162  1000.070267   998.844015\n",
       "3  540.382220   999.952251  1000.440940\n",
       "4  546.024553  1000.446011  1000.338531"
      ]
     },
     "execution_count": 3,
     "metadata": {},
     "output_type": "execute_result"
    }
   ],
   "source": [
    "data.head()"
   ]
  },
  {
   "cell_type": "code",
   "execution_count": 6,
   "metadata": {},
   "outputs": [],
   "source": [
    "X = data[['feature1','feature2']].values"
   ]
  },
  {
   "cell_type": "code",
   "execution_count": 8,
   "metadata": {},
   "outputs": [],
   "source": [
    "y= data['price'].values"
   ]
  },
  {
   "cell_type": "code",
   "execution_count": 9,
   "metadata": {},
   "outputs": [],
   "source": [
    "from sklearn.model_selection import train_test_split"
   ]
  },
  {
   "cell_type": "code",
   "execution_count": 10,
   "metadata": {},
   "outputs": [],
   "source": [
    "X_train, X_test, y_train, y_test = train_test_split(X, y, test_size=0.33, random_state=42)"
   ]
  },
  {
   "cell_type": "code",
   "execution_count": 12,
   "metadata": {},
   "outputs": [],
   "source": [
    "from sklearn.preprocessing import MinMaxScaler"
   ]
  },
  {
   "cell_type": "code",
   "execution_count": 14,
   "metadata": {},
   "outputs": [],
   "source": [
    "scaler = MinMaxScaler()"
   ]
  },
  {
   "cell_type": "code",
   "execution_count": 16,
   "metadata": {},
   "outputs": [
    {
     "data": {
      "text/plain": [
       "MinMaxScaler(copy=True, feature_range=(0, 1))"
      ]
     },
     "execution_count": 16,
     "metadata": {},
     "output_type": "execute_result"
    }
   ],
   "source": [
    "scaler.fit(X_train)"
   ]
  },
  {
   "cell_type": "code",
   "execution_count": 20,
   "metadata": {},
   "outputs": [],
   "source": [
    "x_train =scaler.transform(X_train)\n",
    "x_test = scaler.transform(X_test)"
   ]
  },
  {
   "cell_type": "code",
   "execution_count": 21,
   "metadata": {},
   "outputs": [],
   "source": [
    "from tensorflow.keras.models import Sequential\n",
    "from tensorflow.keras.layers import Dense,Activation"
   ]
  },
  {
   "cell_type": "code",
   "execution_count": 23,
   "metadata": {},
   "outputs": [],
   "source": [
    "model  = Sequential()\n",
    "model.add(Dense(4,activation='relu'))\n",
    "model.add(Dense(4,activation='relu'))\n",
    "model.add(Dense(4,activation='relu'))\n",
    "\n",
    "model.add(Dense(1))\n",
    "\n",
    "\n",
    "model.compile(optimizer ='rmsprop',loss='mse')"
   ]
  },
  {
   "cell_type": "code",
   "execution_count": 24,
   "metadata": {},
   "outputs": [
    {
     "name": "stdout",
     "output_type": "stream",
     "text": [
      "Train on 670 samples\n",
      "Epoch 1/250\n",
      "670/670 [==============================] - 1s 1ms/sample - loss: 256629.5352\n",
      "Epoch 2/250\n",
      "670/670 [==============================] - 0s 113us/sample - loss: 256550.3966\n",
      "Epoch 3/250\n",
      "670/670 [==============================] - 0s 135us/sample - loss: 256464.7998\n",
      "Epoch 4/250\n",
      "670/670 [==============================] - 0s 67us/sample - loss: 256355.7236\n",
      "Epoch 5/250\n",
      "670/670 [==============================] - 0s 85us/sample - loss: 256223.6871\n",
      "Epoch 6/250\n",
      "670/670 [==============================] - 0s 94us/sample - loss: 256068.3330\n",
      "Epoch 7/250\n",
      "670/670 [==============================] - 0s 112us/sample - loss: 255886.9217\n",
      "Epoch 8/250\n",
      "670/670 [==============================] - 0s 97us/sample - loss: 255676.5647\n",
      "Epoch 9/250\n",
      "670/670 [==============================] - 0s 67us/sample - loss: 255436.8600\n",
      "Epoch 10/250\n",
      "670/670 [==============================] - 0s 71us/sample - loss: 255168.2007\n",
      "Epoch 11/250\n",
      "670/670 [==============================] - 0s 64us/sample - loss: 254875.0707\n",
      "Epoch 12/250\n",
      "670/670 [==============================] - 0s 68us/sample - loss: 254555.0200\n",
      "Epoch 13/250\n",
      "670/670 [==============================] - 0s 76us/sample - loss: 254198.1513\n",
      "Epoch 14/250\n",
      "670/670 [==============================] - 0s 104us/sample - loss: 253802.9148\n",
      "Epoch 15/250\n",
      "670/670 [==============================] - 0s 125us/sample - loss: 253368.3712\n",
      "Epoch 16/250\n",
      "670/670 [==============================] - 0s 95us/sample - loss: 252889.1025\n",
      "Epoch 17/250\n",
      "670/670 [==============================] - 0s 109us/sample - loss: 252363.1381\n",
      "Epoch 18/250\n",
      "670/670 [==============================] - 0s 152us/sample - loss: 251784.4791\n",
      "Epoch 19/250\n",
      "670/670 [==============================] - 0s 82us/sample - loss: 251152.7249\n",
      "Epoch 20/250\n",
      "670/670 [==============================] - 0s 80us/sample - loss: 250467.1022\n",
      "Epoch 21/250\n",
      "670/670 [==============================] - 0s 80us/sample - loss: 249718.2301\n",
      "Epoch 22/250\n",
      "670/670 [==============================] - 0s 144us/sample - loss: 248910.8687\n",
      "Epoch 23/250\n",
      "670/670 [==============================] - 0s 73us/sample - loss: 248042.5707\n",
      "Epoch 24/250\n",
      "670/670 [==============================] - 0s 70us/sample - loss: 247099.2865\n",
      "Epoch 25/250\n",
      "670/670 [==============================] - 0s 89us/sample - loss: 246085.5045\n",
      "Epoch 26/250\n",
      "670/670 [==============================] - 0s 89us/sample - loss: 244996.9294\n",
      "Epoch 27/250\n",
      "670/670 [==============================] - 0s 113us/sample - loss: 243831.1763\n",
      "Epoch 28/250\n",
      "670/670 [==============================] - 0s 71us/sample - loss: 242589.1816\n",
      "Epoch 29/250\n",
      "670/670 [==============================] - 0s 76us/sample - loss: 241253.9584\n",
      "Epoch 30/250\n",
      "670/670 [==============================] - 0s 76us/sample - loss: 239835.4458\n",
      "Epoch 31/250\n",
      "670/670 [==============================] - 0s 95us/sample - loss: 238329.5069\n",
      "Epoch 32/250\n",
      "670/670 [==============================] - 0s 79us/sample - loss: 236725.4957\n",
      "Epoch 33/250\n",
      "670/670 [==============================] - 0s 64us/sample - loss: 235024.1327\n",
      "Epoch 34/250\n",
      "670/670 [==============================] - 0s 79us/sample - loss: 233218.9221\n",
      "Epoch 35/250\n",
      "670/670 [==============================] - 0s 77us/sample - loss: 231324.2479\n",
      "Epoch 36/250\n",
      "670/670 [==============================] - 0s 61us/sample - loss: 229308.8139\n",
      "Epoch 37/250\n",
      "670/670 [==============================] - 0s 63us/sample - loss: 227174.4102\n",
      "Epoch 38/250\n",
      "670/670 [==============================] - 0s 71us/sample - loss: 224949.0256\n",
      "Epoch 39/250\n",
      "670/670 [==============================] - 0s 80us/sample - loss: 222611.2739\n",
      "Epoch 40/250\n",
      "670/670 [==============================] - 0s 68us/sample - loss: 220157.5456\n",
      "Epoch 41/250\n",
      "670/670 [==============================] - 0s 73us/sample - loss: 217571.7254\n",
      "Epoch 42/250\n",
      "670/670 [==============================] - 0s 100us/sample - loss: 214876.1579\n",
      "Epoch 43/250\n",
      "670/670 [==============================] - 0s 103us/sample - loss: 212043.6889\n",
      "Epoch 44/250\n",
      "670/670 [==============================] - 0s 132us/sample - loss: 209088.9706\n",
      "Epoch 45/250\n",
      "670/670 [==============================] - 0s 77us/sample - loss: 206006.9902\n",
      "Epoch 46/250\n",
      "670/670 [==============================] - 0s 79us/sample - loss: 202798.6604\n",
      "Epoch 47/250\n",
      "670/670 [==============================] - 0s 63us/sample - loss: 199465.0321\n",
      "Epoch 48/250\n",
      "670/670 [==============================] - 0s 67us/sample - loss: 195988.0270\n",
      "Epoch 49/250\n",
      "670/670 [==============================] - 0s 94us/sample - loss: 192388.9960\n",
      "Epoch 50/250\n",
      "670/670 [==============================] - 0s 70us/sample - loss: 188680.3892\n",
      "Epoch 51/250\n",
      "670/670 [==============================] - 0s 100us/sample - loss: 184834.5209\n",
      "Epoch 52/250\n",
      "670/670 [==============================] - 0s 140us/sample - loss: 180846.9800\n",
      "Epoch 53/250\n",
      "670/670 [==============================] - 0s 176us/sample - loss: 176711.2050\n",
      "Epoch 54/250\n",
      "670/670 [==============================] - 0s 201us/sample - loss: 172466.6398\n",
      "Epoch 55/250\n",
      "670/670 [==============================] - 0s 122us/sample - loss: 168105.2074\n",
      "Epoch 56/250\n",
      "670/670 [==============================] - 0s 70us/sample - loss: 163594.0904\n",
      "Epoch 57/250\n",
      "670/670 [==============================] - 0s 58us/sample - loss: 158977.3899\n",
      "Epoch 58/250\n",
      "670/670 [==============================] - 0s 67us/sample - loss: 154226.0731\n",
      "Epoch 59/250\n",
      "670/670 [==============================] - 0s 63us/sample - loss: 149380.6955\n",
      "Epoch 60/250\n",
      "670/670 [==============================] - 0s 57us/sample - loss: 144439.2542\n",
      "Epoch 61/250\n",
      "670/670 [==============================] - 0s 57us/sample - loss: 139357.2160\n",
      "Epoch 62/250\n",
      "670/670 [==============================] - 0s 55us/sample - loss: 134197.8754\n",
      "Epoch 63/250\n",
      "670/670 [==============================] - 0s 67us/sample - loss: 128926.1674\n",
      "Epoch 64/250\n",
      "670/670 [==============================] - 0s 79us/sample - loss: 123595.3166\n",
      "Epoch 65/250\n",
      "670/670 [==============================] - 0s 52us/sample - loss: 118175.1276\n",
      "Epoch 66/250\n",
      "670/670 [==============================] - 0s 83us/sample - loss: 112703.6186\n",
      "Epoch 67/250\n",
      "670/670 [==============================] - 0s 68us/sample - loss: 107137.7337\n",
      "Epoch 68/250\n",
      "670/670 [==============================] - 0s 61us/sample - loss: 101534.0091\n",
      "Epoch 69/250\n",
      "670/670 [==============================] - 0s 67us/sample - loss: 95935.1642\n",
      "Epoch 70/250\n",
      "670/670 [==============================] - 0s 64us/sample - loss: 90299.1451\n",
      "Epoch 71/250\n",
      "670/670 [==============================] - 0s 77us/sample - loss: 84663.2813\n",
      "Epoch 72/250\n",
      "670/670 [==============================] - 0s 54us/sample - loss: 79012.6497\n",
      "Epoch 73/250\n",
      "670/670 [==============================] - 0s 60us/sample - loss: 73405.9315\n",
      "Epoch 74/250\n",
      "670/670 [==============================] - 0s 64us/sample - loss: 67823.7090\n",
      "Epoch 75/250\n",
      "670/670 [==============================] - 0s 83us/sample - loss: 62283.7913\n",
      "Epoch 76/250\n",
      "670/670 [==============================] - 0s 127us/sample - loss: 56877.0531\n",
      "Epoch 77/250\n",
      "670/670 [==============================] - 0s 88us/sample - loss: 51524.5972\n",
      "Epoch 78/250\n",
      "670/670 [==============================] - 0s 88us/sample - loss: 46304.2092\n",
      "Epoch 79/250\n",
      "670/670 [==============================] - 0s 95us/sample - loss: 41276.4233\n",
      "Epoch 80/250\n",
      "670/670 [==============================] - 0s 100us/sample - loss: 36412.2559\n",
      "Epoch 81/250\n",
      "670/670 [==============================] - 0s 89us/sample - loss: 31716.6541\n",
      "Epoch 82/250\n",
      "670/670 [==============================] - 0s 61us/sample - loss: 27255.9315\n",
      "Epoch 83/250\n",
      "670/670 [==============================] - 0s 60us/sample - loss: 23085.7196\n",
      "Epoch 84/250\n",
      "670/670 [==============================] - 0s 65us/sample - loss: 19210.4171\n",
      "Epoch 85/250\n",
      "670/670 [==============================] - 0s 67us/sample - loss: 15673.2370\n",
      "Epoch 86/250\n",
      "670/670 [==============================] - 0s 63us/sample - loss: 12418.8048\n",
      "Epoch 87/250\n",
      "670/670 [==============================] - 0s 61us/sample - loss: 9585.9940\n",
      "Epoch 88/250\n",
      "670/670 [==============================] - 0s 68us/sample - loss: 7166.9341\n",
      "Epoch 89/250\n",
      "670/670 [==============================] - 0s 63us/sample - loss: 5210.4436\n",
      "Epoch 90/250\n",
      "670/670 [==============================] - 0s 65us/sample - loss: 3709.6172\n"
     ]
    },
    {
     "name": "stdout",
     "output_type": "stream",
     "text": [
      "Epoch 91/250\n",
      "670/670 [==============================] - 0s 60us/sample - loss: 2701.5587\n",
      "Epoch 92/250\n",
      "670/670 [==============================] - 0s 71us/sample - loss: 2128.3170\n",
      "Epoch 93/250\n",
      "670/670 [==============================] - 0s 60us/sample - loss: 1917.6535\n",
      "Epoch 94/250\n",
      "670/670 [==============================] - 0s 49us/sample - loss: 1870.3363\n",
      "Epoch 95/250\n",
      "670/670 [==============================] - 0s 54us/sample - loss: 1845.0862\n",
      "Epoch 96/250\n",
      "670/670 [==============================] - 0s 52us/sample - loss: 1816.6373\n",
      "Epoch 97/250\n",
      "670/670 [==============================] - 0s 57us/sample - loss: 1785.0098\n",
      "Epoch 98/250\n",
      "670/670 [==============================] - 0s 49us/sample - loss: 1756.8540\n",
      "Epoch 99/250\n",
      "670/670 [==============================] - 0s 63us/sample - loss: 1725.9867\n",
      "Epoch 100/250\n",
      "670/670 [==============================] - 0s 51us/sample - loss: 1692.2768\n",
      "Epoch 101/250\n",
      "670/670 [==============================] - 0s 54us/sample - loss: 1662.6524\n",
      "Epoch 102/250\n",
      "670/670 [==============================] - 0s 54us/sample - loss: 1631.4859\n",
      "Epoch 103/250\n",
      "670/670 [==============================] - 0s 52us/sample - loss: 1602.8777\n",
      "Epoch 104/250\n",
      "670/670 [==============================] - 0s 51us/sample - loss: 1579.2196\n",
      "Epoch 105/250\n",
      "670/670 [==============================] - 0s 58us/sample - loss: 1547.2880\n",
      "Epoch 106/250\n",
      "670/670 [==============================] - 0s 54us/sample - loss: 1519.3857\n",
      "Epoch 107/250\n",
      "670/670 [==============================] - 0s 51us/sample - loss: 1494.3966\n",
      "Epoch 108/250\n",
      "670/670 [==============================] - 0s 51us/sample - loss: 1462.2127\n",
      "Epoch 109/250\n",
      "670/670 [==============================] - 0s 61us/sample - loss: 1435.0782\n",
      "Epoch 110/250\n",
      "670/670 [==============================] - 0s 54us/sample - loss: 1405.7341\n",
      "Epoch 111/250\n",
      "670/670 [==============================] - 0s 49us/sample - loss: 1382.6037\n",
      "Epoch 112/250\n",
      "670/670 [==============================] - 0s 51us/sample - loss: 1357.7221\n",
      "Epoch 113/250\n",
      "670/670 [==============================] - 0s 55us/sample - loss: 1328.7460\n",
      "Epoch 114/250\n",
      "670/670 [==============================] - 0s 52us/sample - loss: 1301.8441\n",
      "Epoch 115/250\n",
      "670/670 [==============================] - 0s 51us/sample - loss: 1277.0839\n",
      "Epoch 116/250\n",
      "670/670 [==============================] - 0s 54us/sample - loss: 1249.9896\n",
      "Epoch 117/250\n",
      "670/670 [==============================] - 0s 49us/sample - loss: 1224.0196\n",
      "Epoch 118/250\n",
      "670/670 [==============================] - 0s 57us/sample - loss: 1197.6205\n",
      "Epoch 119/250\n",
      "670/670 [==============================] - 0s 52us/sample - loss: 1172.9503\n",
      "Epoch 120/250\n",
      "670/670 [==============================] - 0s 52us/sample - loss: 1149.4178\n",
      "Epoch 121/250\n",
      "670/670 [==============================] - 0s 73us/sample - loss: 1122.8681\n",
      "Epoch 122/250\n",
      "670/670 [==============================] - 0s 49us/sample - loss: 1100.2067\n",
      "Epoch 123/250\n",
      "670/670 [==============================] - 0s 63us/sample - loss: 1077.2230\n",
      "Epoch 124/250\n",
      "670/670 [==============================] - 0s 51us/sample - loss: 1057.1907\n",
      "Epoch 125/250\n",
      "670/670 [==============================] - 0s 51us/sample - loss: 1032.1116\n",
      "Epoch 126/250\n",
      "670/670 [==============================] - 0s 51us/sample - loss: 1007.8564\n",
      "Epoch 127/250\n",
      "670/670 [==============================] - 0s 52us/sample - loss: 983.0665\n",
      "Epoch 128/250\n",
      "670/670 [==============================] - 0s 58us/sample - loss: 960.6905\n",
      "Epoch 129/250\n",
      "670/670 [==============================] - 0s 51us/sample - loss: 940.5142\n",
      "Epoch 130/250\n",
      "670/670 [==============================] - 0s 51us/sample - loss: 914.6380\n",
      "Epoch 131/250\n",
      "670/670 [==============================] - 0s 55us/sample - loss: 893.7957\n",
      "Epoch 132/250\n",
      "670/670 [==============================] - 0s 58us/sample - loss: 866.8302\n",
      "Epoch 133/250\n",
      "670/670 [==============================] - 0s 55us/sample - loss: 844.5764\n",
      "Epoch 134/250\n",
      "670/670 [==============================] - 0s 51us/sample - loss: 818.7571\n",
      "Epoch 135/250\n",
      "670/670 [==============================] - 0s 54us/sample - loss: 793.4358\n",
      "Epoch 136/250\n",
      "670/670 [==============================] - 0s 60us/sample - loss: 771.5104\n",
      "Epoch 137/250\n",
      "670/670 [==============================] - 0s 52us/sample - loss: 748.3260\n",
      "Epoch 138/250\n",
      "670/670 [==============================] - 0s 52us/sample - loss: 726.4826\n",
      "Epoch 139/250\n",
      "670/670 [==============================] - 0s 55us/sample - loss: 700.1016\n",
      "Epoch 140/250\n",
      "670/670 [==============================] - 0s 54us/sample - loss: 685.0206\n",
      "Epoch 141/250\n",
      "670/670 [==============================] - 0s 51us/sample - loss: 662.9714\n",
      "Epoch 142/250\n",
      "670/670 [==============================] - 0s 52us/sample - loss: 643.2012\n",
      "Epoch 143/250\n",
      "670/670 [==============================] - 0s 52us/sample - loss: 622.4781\n",
      "Epoch 144/250\n",
      "670/670 [==============================] - 0s 58us/sample - loss: 603.2468\n",
      "Epoch 145/250\n",
      "670/670 [==============================] - 0s 55us/sample - loss: 581.8159\n",
      "Epoch 146/250\n",
      "670/670 [==============================] - 0s 54us/sample - loss: 563.5839\n",
      "Epoch 147/250\n",
      "670/670 [==============================] - 0s 63us/sample - loss: 547.6011\n",
      "Epoch 148/250\n",
      "670/670 [==============================] - 0s 58us/sample - loss: 530.0211\n",
      "Epoch 149/250\n",
      "670/670 [==============================] - 0s 54us/sample - loss: 514.3325\n",
      "Epoch 150/250\n",
      "670/670 [==============================] - 0s 55us/sample - loss: 495.4728\n",
      "Epoch 151/250\n",
      "670/670 [==============================] - 0s 49us/sample - loss: 478.2804\n",
      "Epoch 152/250\n",
      "670/670 [==============================] - 0s 49us/sample - loss: 462.0524\n",
      "Epoch 153/250\n",
      "670/670 [==============================] - 0s 83us/sample - loss: 444.9014\n",
      "Epoch 154/250\n",
      "670/670 [==============================] - 0s 67us/sample - loss: 428.7275\n",
      "Epoch 155/250\n",
      "670/670 [==============================] - 0s 51us/sample - loss: 411.3755\n",
      "Epoch 156/250\n",
      "670/670 [==============================] - 0s 60us/sample - loss: 393.7960\n",
      "Epoch 157/250\n",
      "670/670 [==============================] - 0s 61us/sample - loss: 382.8091\n",
      "Epoch 158/250\n",
      "670/670 [==============================] - 0s 57us/sample - loss: 367.4907\n",
      "Epoch 159/250\n",
      "670/670 [==============================] - 0s 54us/sample - loss: 351.0847\n",
      "Epoch 160/250\n",
      "670/670 [==============================] - 0s 57us/sample - loss: 335.1524\n",
      "Epoch 161/250\n",
      "670/670 [==============================] - 0s 63us/sample - loss: 323.3625\n",
      "Epoch 162/250\n",
      "670/670 [==============================] - 0s 58us/sample - loss: 308.7568\n",
      "Epoch 163/250\n",
      "670/670 [==============================] - 0s 55us/sample - loss: 295.2511\n",
      "Epoch 164/250\n",
      "670/670 [==============================] - 0s 54us/sample - loss: 281.5062\n",
      "Epoch 165/250\n",
      "670/670 [==============================] - 0s 55us/sample - loss: 268.7515\n",
      "Epoch 166/250\n",
      "670/670 [==============================] - 0s 54us/sample - loss: 257.4777\n",
      "Epoch 167/250\n",
      "670/670 [==============================] - 0s 51us/sample - loss: 245.8799\n",
      "Epoch 168/250\n",
      "670/670 [==============================] - 0s 58us/sample - loss: 234.3093\n",
      "Epoch 169/250\n",
      "670/670 [==============================] - 0s 51us/sample - loss: 223.5108\n",
      "Epoch 170/250\n",
      "670/670 [==============================] - 0s 55us/sample - loss: 213.2197\n",
      "Epoch 171/250\n",
      "670/670 [==============================] - 0s 54us/sample - loss: 203.2875\n",
      "Epoch 172/250\n",
      "670/670 [==============================] - 0s 52us/sample - loss: 192.1097\n",
      "Epoch 173/250\n",
      "670/670 [==============================] - 0s 60us/sample - loss: 181.1271\n",
      "Epoch 174/250\n",
      "670/670 [==============================] - 0s 51us/sample - loss: 170.1740\n",
      "Epoch 175/250\n",
      "670/670 [==============================] - 0s 61us/sample - loss: 160.1169\n",
      "Epoch 176/250\n",
      "670/670 [==============================] - 0s 55us/sample - loss: 149.7197\n",
      "Epoch 177/250\n",
      "670/670 [==============================] - 0s 49us/sample - loss: 141.9451\n",
      "Epoch 178/250\n",
      "670/670 [==============================] - 0s 60us/sample - loss: 132.5220\n",
      "Epoch 179/250\n",
      "670/670 [==============================] - 0s 48us/sample - loss: 124.3907\n",
      "Epoch 180/250\n",
      "670/670 [==============================] - 0s 54us/sample - loss: 117.4209\n",
      "Epoch 181/250\n",
      "670/670 [==============================] - 0s 58us/sample - loss: 109.4710\n",
      "Epoch 182/250\n"
     ]
    },
    {
     "name": "stdout",
     "output_type": "stream",
     "text": [
      "670/670 [==============================] - 0s 52us/sample - loss: 102.6811\n",
      "Epoch 183/250\n",
      "670/670 [==============================] - 0s 54us/sample - loss: 94.8148\n",
      "Epoch 184/250\n",
      "670/670 [==============================] - 0s 61us/sample - loss: 88.6943\n",
      "Epoch 185/250\n",
      "670/670 [==============================] - 0s 54us/sample - loss: 82.1970\n",
      "Epoch 186/250\n",
      "670/670 [==============================] - 0s 65us/sample - loss: 76.3087\n",
      "Epoch 187/250\n",
      "670/670 [==============================] - 0s 52us/sample - loss: 70.8152\n",
      "Epoch 188/250\n",
      "670/670 [==============================] - 0s 57us/sample - loss: 65.9734\n",
      "Epoch 189/250\n",
      "670/670 [==============================] - 0s 52us/sample - loss: 60.9223\n",
      "Epoch 190/250\n",
      "670/670 [==============================] - 0s 51us/sample - loss: 57.3226\n",
      "Epoch 191/250\n",
      "670/670 [==============================] - 0s 49us/sample - loss: 53.1571\n",
      "Epoch 192/250\n",
      "670/670 [==============================] - 0s 49us/sample - loss: 49.9615\n",
      "Epoch 193/250\n",
      "670/670 [==============================] - 0s 52us/sample - loss: 46.6523\n",
      "Epoch 194/250\n",
      "670/670 [==============================] - 0s 58us/sample - loss: 43.7771\n",
      "Epoch 195/250\n",
      "670/670 [==============================] - 0s 52us/sample - loss: 41.4673\n",
      "Epoch 196/250\n",
      "670/670 [==============================] - 0s 51us/sample - loss: 39.2179\n",
      "Epoch 197/250\n",
      "670/670 [==============================] - 0s 49us/sample - loss: 37.4775\n",
      "Epoch 198/250\n",
      "670/670 [==============================] - 0s 54us/sample - loss: 35.2853\n",
      "Epoch 199/250\n",
      "670/670 [==============================] - 0s 60us/sample - loss: 33.9302\n",
      "Epoch 200/250\n",
      "670/670 [==============================] - 0s 52us/sample - loss: 32.5590\n",
      "Epoch 201/250\n",
      "670/670 [==============================] - 0s 52us/sample - loss: 31.2242\n",
      "Epoch 202/250\n",
      "670/670 [==============================] - 0s 61us/sample - loss: 30.2473\n",
      "Epoch 203/250\n",
      "670/670 [==============================] - 0s 51us/sample - loss: 29.4729\n",
      "Epoch 204/250\n",
      "670/670 [==============================] - 0s 51us/sample - loss: 28.4202\n",
      "Epoch 205/250\n",
      "670/670 [==============================] - 0s 58us/sample - loss: 28.0636\n",
      "Epoch 206/250\n",
      "670/670 [==============================] - 0s 54us/sample - loss: 27.2934\n",
      "Epoch 207/250\n",
      "670/670 [==============================] - 0s 57us/sample - loss: 26.7602\n",
      "Epoch 208/250\n",
      "670/670 [==============================] - 0s 67us/sample - loss: 26.4100\n",
      "Epoch 209/250\n",
      "670/670 [==============================] - 0s 57us/sample - loss: 25.9464\n",
      "Epoch 210/250\n",
      "670/670 [==============================] - 0s 67us/sample - loss: 26.1119\n",
      "Epoch 211/250\n",
      "670/670 [==============================] - 0s 65us/sample - loss: 25.7209\n",
      "Epoch 212/250\n",
      "670/670 [==============================] - 0s 54us/sample - loss: 25.6361\n",
      "Epoch 213/250\n",
      "670/670 [==============================] - 0s 52us/sample - loss: 25.0599\n",
      "Epoch 214/250\n",
      "670/670 [==============================] - 0s 49us/sample - loss: 25.1143\n",
      "Epoch 215/250\n",
      "670/670 [==============================] - 0s 51us/sample - loss: 25.2768\n",
      "Epoch 216/250\n",
      "670/670 [==============================] - 0s 52us/sample - loss: 24.5886\n",
      "Epoch 217/250\n",
      "670/670 [==============================] - 0s 51us/sample - loss: 25.2084\n",
      "Epoch 218/250\n",
      "670/670 [==============================] - 0s 52us/sample - loss: 25.0041\n",
      "Epoch 219/250\n",
      "670/670 [==============================] - 0s 68us/sample - loss: 24.7156\n",
      "Epoch 220/250\n",
      "670/670 [==============================] - 0s 54us/sample - loss: 24.7380\n",
      "Epoch 221/250\n",
      "670/670 [==============================] - 0s 63us/sample - loss: 25.0869\n",
      "Epoch 222/250\n",
      "670/670 [==============================] - 0s 55us/sample - loss: 24.9159\n",
      "Epoch 223/250\n",
      "670/670 [==============================] - 0s 66us/sample - loss: 24.7417\n",
      "Epoch 224/250\n",
      "670/670 [==============================] - 0s 51us/sample - loss: 24.7349\n",
      "Epoch 225/250\n",
      "670/670 [==============================] - 0s 52us/sample - loss: 24.6384\n",
      "Epoch 226/250\n",
      "670/670 [==============================] - 0s 60us/sample - loss: 24.5678\n",
      "Epoch 227/250\n",
      "670/670 [==============================] - 0s 52us/sample - loss: 24.6164\n",
      "Epoch 228/250\n",
      "670/670 [==============================] - 0s 55us/sample - loss: 24.3262\n",
      "Epoch 229/250\n",
      "670/670 [==============================] - 0s 51us/sample - loss: 24.4870\n",
      "Epoch 230/250\n",
      "670/670 [==============================] - 0s 61us/sample - loss: 24.4525\n",
      "Epoch 231/250\n",
      "670/670 [==============================] - 0s 64us/sample - loss: 24.6884\n",
      "Epoch 232/250\n",
      "670/670 [==============================] - 0s 52us/sample - loss: 24.4727\n",
      "Epoch 233/250\n",
      "670/670 [==============================] - 0s 49us/sample - loss: 24.2604\n",
      "Epoch 234/250\n",
      "670/670 [==============================] - 0s 51us/sample - loss: 24.5226\n",
      "Epoch 235/250\n",
      "670/670 [==============================] - 0s 51us/sample - loss: 24.5521\n",
      "Epoch 236/250\n",
      "670/670 [==============================] - 0s 64us/sample - loss: 24.7917\n",
      "Epoch 237/250\n",
      "670/670 [==============================] - 0s 52us/sample - loss: 24.4444\n",
      "Epoch 238/250\n",
      "670/670 [==============================] - 0s 52us/sample - loss: 24.4036\n",
      "Epoch 239/250\n",
      "670/670 [==============================] - 0s 64us/sample - loss: 24.7180\n",
      "Epoch 240/250\n",
      "670/670 [==============================] - 0s 68us/sample - loss: 24.6525\n",
      "Epoch 241/250\n",
      "670/670 [==============================] - 0s 55us/sample - loss: 24.7801\n",
      "Epoch 242/250\n",
      "670/670 [==============================] - 0s 49us/sample - loss: 24.4995\n",
      "Epoch 243/250\n",
      "670/670 [==============================] - 0s 58us/sample - loss: 24.7816\n",
      "Epoch 244/250\n",
      "670/670 [==============================] - 0s 61us/sample - loss: 24.4030\n",
      "Epoch 245/250\n",
      "670/670 [==============================] - 0s 55us/sample - loss: 24.8251\n",
      "Epoch 246/250\n",
      "670/670 [==============================] - 0s 51us/sample - loss: 24.2833\n",
      "Epoch 247/250\n",
      "670/670 [==============================] - 0s 54us/sample - loss: 24.6836\n",
      "Epoch 248/250\n",
      "670/670 [==============================] - 0s 51us/sample - loss: 24.8614\n",
      "Epoch 249/250\n",
      "670/670 [==============================] - 0s 57us/sample - loss: 24.4925\n",
      "Epoch 250/250\n",
      "670/670 [==============================] - 0s 68us/sample - loss: 24.1242\n"
     ]
    },
    {
     "data": {
      "text/plain": [
       "<tensorflow.python.keras.callbacks.History at 0x220081ba308>"
      ]
     },
     "execution_count": 24,
     "metadata": {},
     "output_type": "execute_result"
    }
   ],
   "source": [
    "model.fit(x_train,y_train,epochs=250)"
   ]
  },
  {
   "cell_type": "code",
   "execution_count": 26,
   "metadata": {},
   "outputs": [],
   "source": [
    "loss =model.history.history['loss']"
   ]
  },
  {
   "cell_type": "code",
   "execution_count": 27,
   "metadata": {},
   "outputs": [
    {
     "data": {
      "text/plain": [
       "<matplotlib.axes._subplots.AxesSubplot at 0x220098d6808>"
      ]
     },
     "execution_count": 27,
     "metadata": {},
     "output_type": "execute_result"
    },
    {
     "data": {
      "image/png": "[encoded data removed]",
      "text/plain": [
       "<Figure size 432x288 with 1 Axes>"
      ]
     },
     "metadata": {
      "needs_background": "light"
     },
     "output_type": "display_data"
    }
   ],
   "source": [
    "sns.lineplot(x=range(len(loss)),y=loss)"
   ]
  },
  {
   "cell_type": "code",
   "execution_count": 29,
   "metadata": {},
   "outputs": [
    {
     "data": {
      "text/plain": [
       "26.65027582538662"
      ]
     },
     "execution_count": 29,
     "metadata": {},
     "output_type": "execute_result"
    }
   ],
   "source": [
    "model.evaluate(x_train,y_train,verbose =0)"
   ]
  },
  {
   "cell_type": "code",
   "execution_count": 30,
   "metadata": {},
   "outputs": [
    {
     "data": {
      "text/plain": [
       "26.274936363913795"
      ]
     },
     "execution_count": 30,
     "metadata": {},
     "output_type": "execute_result"
    }
   ],
   "source": [
    "model.evaluate(x_test,y_test,verbose=0)"
   ]
  },
  {
   "cell_type": "code",
   "execution_count": 31,
   "metadata": {},
   "outputs": [],
   "source": [
    "test_prediction = model.predict(x_test)"
   ]
  },
  {
   "cell_type": "code",
   "execution_count": 34,
   "metadata": {},
   "outputs": [],
   "source": [
    "#sns.lineplot(x= y_test, y= test_prediction)"
   ]
  },
  {
   "cell_type": "code",
   "execution_count": 35,
   "metadata": {},
   "outputs": [],
   "source": [
    "from sklearn.metrics import mean_absolute_error,mean_squared_error"
   ]
  },
  {
   "cell_type": "code",
   "execution_count": 36,
   "metadata": {},
   "outputs": [
    {
     "data": {
      "text/plain": [
       "4.1233599281498545"
      ]
     },
     "execution_count": 36,
     "metadata": {},
     "output_type": "execute_result"
    }
   ],
   "source": [
    "mean_absolute_error(y_test,test_prediction)"
   ]
  },
  {
   "cell_type": "code",
   "execution_count": 39,
   "metadata": {},
   "outputs": [
    {
     "data": {
      "text/plain": [
       "5.125908761341113"
      ]
     },
     "execution_count": 39,
     "metadata": {},
     "output_type": "execute_result"
    }
   ],
   "source": [
    "mean_squared_error(y_test,test_prediction)**.5"
   ]
  },
  {
   "cell_type": "code",
   "execution_count": 40,
   "metadata": {},
   "outputs": [],
   "source": [
    "new_val =[[998,1000]]"
   ]
  },
  {
   "cell_type": "code",
   "execution_count": 43,
   "metadata": {},
   "outputs": [],
   "source": [
    "new_val =scaler.transform(new_val)"
   ]
  },
  {
   "cell_type": "code",
   "execution_count": 44,
   "metadata": {},
   "outputs": [
    {
     "data": {
      "text/plain": [
       "array([[418.51358]], dtype=float32)"
      ]
     },
     "execution_count": 44,
     "metadata": {},
     "output_type": "execute_result"
    }
   ],
   "source": [
    "model.predict(new_val)"
   ]
  },
  {
   "cell_type": "code",
   "execution_count": null,
   "metadata": {},
   "outputs": [],
   "source": []
  }
 ],
 "metadata": {
  "kernelspec": {
   "display_name": "Python 3",
   "language": "python",
   "name": "python3"
  },
  "language_info": {
   "codemirror_mode": {
    "name": "ipython",
    "version": 3
   },
   "file_extension": ".py",
   "mimetype": "text/x-python",
   "name": "python",
   "nbconvert_exporter": "python",
   "pygments_lexer": "ipython3",
   "version": "3.7.7"
  }
 },
 "nbformat": 4,
 "nbformat_minor": 4
}
